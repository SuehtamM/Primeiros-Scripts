{
 "cells": [
  {
   "cell_type": "markdown",
   "metadata": {},
   "source": [
    "# Jogo da velha (Tic Tac Toe)\n",
    "\n",
    "Nesse script foi criado, de forma simplificada, o clássico jogo da velha. Para jogar, primeiro o \"player 1\" deve escolher X ou O, digitando a letra x ou a letra o quando solicitado. Logo, o \"player 2\" receberá o outro símbolo automaticamente. Depois, de forma alternada, cada jogador escolhe um número de 1 a 9 para posicionar seu símbolo no tabuleiro. Sendo 1 a posição superior esquerda, 5 a posição central, 9 a posição inferior direita, como o teclado abaixo (excluindo o zero e o ponto).\n",
    "\n",
    "O intuito da criação desse script é exercitar o uso das funções built-in do python e compor um código com várias funções que, juntas, resultam em uma aplicação simples e divertida (que também se tornou nostálgica).\n",
    "\n",
    "Por ser o primeiro código que escrevi sem ajuda externa, o código tem muitos comentários e alguns pontos de redundância, que eu quis manter para me lembrar como foi iniciar o primeiro projeto e para você, iniciante em programação em python, ver que é normal cometer alguns erros no início."
   ]
  },
  {
   "cell_type": "code",
   "execution_count": 3,
   "metadata": {},
   "outputs": [
    {
     "data": {
      "image/png": "[encoded data removed]",
      "text/plain": [
       "<IPython.core.display.Image object>"
      ]
     },
     "execution_count": 3,
     "metadata": {},
     "output_type": "execute_result"
    }
   ],
   "source": [
    "from IPython.display import Image\n",
    "Image(\"https://encrypted-tbn0.gstatic.com/images?q=tbn:ANd9GcRHGL6n2EASSb-G836cI8BPZVF7rJ3CHWOBXQ&usqp=CAU.png\")"
   ]
  },
  {
   "cell_type": "code",
   "execution_count": 4,
   "metadata": {},
   "outputs": [],
   "source": [
    "#tabuleiro\n",
    "from IPython.display import clear_output\n",
    "\n",
    "def mostrar_tabuleiro(tabuleiro):\n",
    "    \"\"\"Essa função exibe o desenho do jogo, ou seja, um #\n",
    "    \"\"\"\n",
    "    clear_output()\n",
    "    print(tabuleiro[1]+\"|\"+tabuleiro[2]+\"|\"+tabuleiro[3])\n",
    "    print(\"-\"*5)\n",
    "    print(tabuleiro[4]+\"|\"+tabuleiro[5]+\"|\"+tabuleiro[6])\n",
    "    print(\"-\"*5)\n",
    "    print(tabuleiro[7]+\"|\"+tabuleiro[8]+\"|\"+tabuleiro[9]) "
   ]
  },
  {
   "cell_type": "code",
   "execution_count": 5,
   "metadata": {},
   "outputs": [],
   "source": [
    "def simbolo():\n",
    "    \"\"\"Essa função define qual player será X e qual será O\n",
    "    \"\"\"\n",
    "    player1 = \" \" #inicialmente, o player 1 não é nem X e nem O\n",
    "    player2 = \" \" #mesma coisa pro player 2\n",
    "    \n",
    "    #usuário digita o símbolo do player 1. Apenas X e O são válidos\n",
    "    simbolo = input(\"Player 1, escolha um símbolo (X ou O): \")\n",
    "    simbolo = simbolo.upper()\n",
    "    while simbolo != \"X\" and simbolo != \"O\":\n",
    "        simbolo = input(\"Apenas X ou O são símbolos válidos. Digite novamente um dos dois: \")\n",
    "        simbolo = simbolo.upper()\n",
    "    \n",
    "    #Após a escolha do simbolo pelo player 1, associamos o outro simbolo ao player 2\n",
    "    if simbolo == \"X\":\n",
    "        player1 = \"X\"\n",
    "        player2 = \"O\"\n",
    "    else:\n",
    "        player1 = \"O\"\n",
    "        player2 = \"X\" \n",
    "\n",
    "    return player1, player2"
   ]
  },
  {
   "cell_type": "code",
   "execution_count": 9,
   "metadata": {},
   "outputs": [],
   "source": [
    "def preenchimento_tabuleiro(player1,player2):\n",
    "    \"\"\"Essa função registra a posição do tabuleiro que o jogador quer colocar seu simbolo e \n",
    "    também determinado o fim de jogo.\n",
    "    \"\"\"\n",
    "    #inicialmente o tabuleiro está vazio\n",
    "    simb_tabuleiro = [\" \"]*10\n",
    "    \n",
    "    #o jogo começa sempre no primeiro turno e vai até o turno 9 já que esse é o máximo de posições aceitas no jogo\n",
    "    turno = 1 \n",
    "    \n",
    "    linha_X = [\"X\",\"X\",\"X\"] #simplificação da vitoria por linha preenchida pelo jogador X\n",
    "    linha_O = [\"O\",\"O\",\"O\"] #simplificação da vitoria por linha preenchida pelo jogador O\n",
    "    \n",
    "    #contagem dos turnos. Cada jogada feita faz com que o valor do turno mude\n",
    "    while turno <= 9: \n",
    "        posicao = input(\"Digite a posição do tabuleiro para posicionar seu símbolo (1-9): \")\n",
    "        while posicao.isdigit()==False or int(posicao) < 1 or int(posicao) > 9:\n",
    "            posicao = input(\"Apenas valores de 1 a 9 são válidos. Digite novamente: \")\n",
    "        posicao = int(posicao)\n",
    "        \n",
    "        #se o turno for par é a vez do jogador 2\n",
    "        if turno%2==0:\n",
    "            if simb_tabuleiro[posicao] == \" \":\n",
    "                simb_tabuleiro[posicao] = player2\n",
    "            #se o jogador 2 escolher uma posição já preenchida ele precisa escolher outra\n",
    "            else: \n",
    "                print(\"Essa posição já está preenchida.\")\n",
    "                continue\n",
    "                \n",
    "        #se o turno for impar é a vez do jogador 1\n",
    "        else: \n",
    "            if simb_tabuleiro[posicao] == \" \":\n",
    "                simb_tabuleiro[posicao] = player1\n",
    "            #se ele escolher uma posição já preenchida, tem q escolher outra\n",
    "            else:\n",
    "                print(\"Essa posição já está preenchida.\")\n",
    "                continue\n",
    "        \n",
    "        #aqui o tabuleiro é atualizado já que essa função apenas exibe a situação atual do jogo.\n",
    "        mostrar_tabuleiro(simb_tabuleiro)\n",
    "        \n",
    "        #condições de vitória:\n",
    "        #linha X\n",
    "        if simb_tabuleiro[1:4] == linha_X or simb_tabuleiro[4:7] == linha_X or simb_tabuleiro[7:10] == linha_X:\n",
    "            print(\"Jogador de X venceu!\")\n",
    "            break\n",
    "            \n",
    "        #linha O\n",
    "        elif simb_tabuleiro[1:4] == linha_O or simb_tabuleiro[4:7] == linha_O or simb_tabuleiro[7:10] == linha_O:\n",
    "            print(\"Jogador de O venceu!\")\n",
    "            break\n",
    "            \n",
    "        #coluna X\n",
    "        elif (simb_tabuleiro[1]== \"X\" and simb_tabuleiro[4]==\"X\" and simb_tabuleiro[7]==\"X\") or (simb_tabuleiro[2]==\"X\" and simb_tabuleiro[5]==\"X\" and simb_tabuleiro[8]==\"X\") or (simb_tabuleiro[3]==\"X\" and simb_tabuleiro[6]==\"X\" and simb_tabuleiro[9]==\"X\"):\n",
    "            print(\"Jogador de X venceu!\")\n",
    "            break\n",
    "            \n",
    "        #coluna O\n",
    "        elif (simb_tabuleiro[1]== \"O\" and simb_tabuleiro[4]==\"O\" and simb_tabuleiro[7]==\"O\") or (simb_tabuleiro[2]==\"O\" and simb_tabuleiro[5]==\"O\" and simb_tabuleiro[8]==\"O\") or (simb_tabuleiro[3]==\"O\" and simb_tabuleiro[6]==\"O\" and simb_tabuleiro[9]==\"O\"):\n",
    "            print(\"Jogador de O venceu!\")\n",
    "            break\n",
    "            \n",
    "        #diagonais X\n",
    "        elif (simb_tabuleiro[1]== \"X\" and simb_tabuleiro[5]==\"X\" and simb_tabuleiro[9]==\"X\") or (simb_tabuleiro[3]==\"X\" and simb_tabuleiro[5]==\"X\" and simb_tabuleiro[7]==\"X\"):\n",
    "            print(\"Jogador de X venceu!\")\n",
    "            break\n",
    "            \n",
    "        #diagonais O\n",
    "        elif (simb_tabuleiro[1]== \"O\" and simb_tabuleiro[5]==\"O\" and simb_tabuleiro[9]==\"O\") or (simb_tabuleiro[3]==\"O\" and simb_tabuleiro[5]==\"O\" and simb_tabuleiro[7]==\"O\"):\n",
    "            print(\"Jogador de O venceu!\")\n",
    "            break\n",
    "            \n",
    "        turno += 1\n",
    "    \n",
    "    #se der empate:\n",
    "    if turno>9:\n",
    "        print(\"Empate!\")"
   ]
  },
  {
   "cell_type": "code",
   "execution_count": 10,
   "metadata": {},
   "outputs": [],
   "source": [
    "def jogar_novamente():\n",
    "    \"\"\"Essa função decide se o jogo será reiniciado ou terminado.\n",
    "    \"\"\"\n",
    "    retry = input(\"Deseja jogar novamente? S para sim e N para não: \")\n",
    "    retry = retry.upper()\n",
    "    \n",
    "    #verificação se foi digitado S ou N\n",
    "    while retry != \"S\" and retry != \"N\":\n",
    "        retry = input(\"Responda apenas com S para sim e N para não: \")\n",
    "        retry = retry.upper()\n",
    "        \n",
    "    #Se foi digitado sim, o jogo é reiniciado através da re-execução de todas as funções\n",
    "    if retry == \"S\":\n",
    "        mostrar_tabuleiro(simb_tabuleiro)\n",
    "        simb_player1,simb_player2 = simbolo()\n",
    "        preenchimento_tabuleiro(simb_player1, simb_player2)\n",
    "        jogar_novamente()\n",
    "    \n",
    "    #Se foi digitado não o jogo acaba.\n",
    "    else:\n",
    "        print(\"GAME OVER.\")"
   ]
  },
  {
   "cell_type": "code",
   "execution_count": 11,
   "metadata": {},
   "outputs": [
    {
     "name": "stdout",
     "output_type": "stream",
     "text": [
      "O|X|X\n",
      "-----\n",
      " |O| \n",
      "-----\n",
      " | |O\n",
      "Jogador de O venceu!\n",
      "Deseja jogar novamente? S para sim e N para não: n\n",
      "GAME OVER.\n"
     ]
    }
   ],
   "source": [
    "#### união das funções que fazem o jogo funcionar\n",
    "\n",
    "#primeiro, o tabuleiro está vazio\n",
    "simb_tabuleiro = [\" \"]*10\n",
    "\n",
    "#segundo, mostramos o tabuleiro\n",
    "mostrar_tabuleiro(simb_tabuleiro)\n",
    "\n",
    "#terceiro, os jogadores escolhem seus simbolos\n",
    "simb_player1, simb_player2 = simbolo()\n",
    "\n",
    "#quarto, o jogo acontece\n",
    "preenchimento_tabuleiro(simb_player1, simb_player2)\n",
    "\n",
    "#por fim, é perguntado se desejamos jogar novamente\n",
    "jogar_novamente()"
   ]
  },
  {
   "cell_type": "code",
   "execution_count": null,
   "metadata": {},
   "outputs": [],
   "source": []
  }
 ],
 "metadata": {
  "kernelspec": {
   "display_name": "Python 3",
   "language": "python",
   "name": "python3"
  },
  "language_info": {
   "codemirror_mode": {
    "name": "ipython",
    "version": 3
   },
   "file_extension": ".py",
   "mimetype": "text/x-python",
   "name": "python",
   "nbconvert_exporter": "python",
   "pygments_lexer": "ipython3",
   "version": "3.7.6"
  }
 },
 "nbformat": 4,
 "nbformat_minor": 4
}
